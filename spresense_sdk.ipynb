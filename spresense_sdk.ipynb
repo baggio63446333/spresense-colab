{
  "nbformat": 4,
  "nbformat_minor": 0,
  "metadata": {
    "colab": {
      "name": "spresense-sdk.ipynb",
      "provenance": [],
      "mount_file_id": "1UzF9_HyQ4uwkf4FIqiGTrVdX5K3-Z_gH",
      "authorship_tag": "ABX9TyMMmB7plLealld4GbPYPDGU",
      "include_colab_link": true
    },
    "kernelspec": {
      "name": "python3",
      "display_name": "Python 3"
    }
  },
  "cells": [
    {
      "cell_type": "markdown",
      "metadata": {
        "id": "view-in-github",
        "colab_type": "text"
      },
      "source": [
        "<a href=\"https://colab.research.google.com/github/baggio63446333/spresense-colab/blob/main/spresense_sdk.ipynb\" target=\"_parent\"><img src=\"https://colab.research.google.com/assets/colab-badge.svg\" alt=\"Open In Colab\"/></a>"
      ]
    },
    {
      "cell_type": "markdown",
      "metadata": {
        "id": "8Y3sLWJ6JZUL"
      },
      "source": [
        "Spresense SDK スタートガイド (CLI版)\n",
        "\n",
        "https://developer.sony.com/develop/spresense/docs/sdk_set_up_ja.html"
      ]
    },
    {
      "cell_type": "markdown",
      "metadata": {
        "id": "8cPZux_AJ3Ik"
      },
      "source": [
        "ツールインストール用のスクリプトを取得する"
      ]
    },
    {
      "cell_type": "code",
      "metadata": {
        "id": "uPrmH-em5c0F"
      },
      "source": [
        "!wget https://raw.githubusercontent.com/sonydevworld/spresense/master/install-tools.sh"
      ],
      "execution_count": null,
      "outputs": []
    },
    {
      "cell_type": "markdown",
      "metadata": {
        "id": "DE8GCpukKDXb"
      },
      "source": [
        "スクリプトを実行してツール群をインストールする"
      ]
    },
    {
      "cell_type": "code",
      "metadata": {
        "id": "mgbO13qR6qma"
      },
      "source": [
        "!bash install-tools.sh"
      ],
      "execution_count": null,
      "outputs": []
    },
    {
      "cell_type": "markdown",
      "metadata": {
        "id": "8eslGwG-MQ6E"
      },
      "source": [
        "ツールへのパスを設定する。\n",
        "source ~/spresenseenv/setup\n",
        "の代わりにpythonコードでPATH環境変数を設定する"
      ]
    },
    {
      "cell_type": "code",
      "metadata": {
        "id": "lp8q2xLOIB19"
      },
      "source": [
        "import os\n",
        "os.environ['PATH'] += \":/root/spresenseenv/usr/bin\""
      ],
      "execution_count": 3,
      "outputs": []
    },
    {
      "cell_type": "markdown",
      "metadata": {
        "id": "IPbnqBCXKpbe"
      },
      "source": [
        "Spresense SDK のソースコードを取得する"
      ]
    },
    {
      "cell_type": "code",
      "metadata": {
        "id": "Fwaw_VRw7ZeP"
      },
      "source": [
        "!git clone --recursive https://github.com/sonydevworld/spresense.git"
      ],
      "execution_count": null,
      "outputs": []
    },
    {
      "cell_type": "markdown",
      "metadata": {
        "id": "UR1bWwAlLY13"
      },
      "source": [
        "spresense/sdk ディレクトリへ移動する"
      ]
    },
    {
      "cell_type": "code",
      "metadata": {
        "id": "zoxk9-D073u4"
      },
      "source": [
        "%cd /content/spresense/sdk/"
      ],
      "execution_count": null,
      "outputs": []
    },
    {
      "cell_type": "markdown",
      "metadata": {
        "id": "R_Sw_2gwLeb7"
      },
      "source": [
        "コンフィグレーションを実行する"
      ]
    },
    {
      "cell_type": "code",
      "metadata": {
        "id": "m0JQR0g6936Q"
      },
      "source": [
        "!tools/config.py examples/hello"
      ],
      "execution_count": null,
      "outputs": []
    },
    {
      "cell_type": "markdown",
      "metadata": {
        "id": "fEurVO3SLnF7"
      },
      "source": [
        "ビルドする"
      ]
    },
    {
      "cell_type": "code",
      "metadata": {
        "id": "Gb3vlI2MF2I2"
      },
      "source": [
        "!make"
      ],
      "execution_count": null,
      "outputs": []
    }
  ]
}